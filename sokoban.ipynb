{
 "cells": [
  {
   "cell_type": "code",
   "execution_count": null,
   "id": "c1465562-adb2-4233-960a-cdb5577f949c",
   "metadata": {},
   "outputs": [
    {
     "name": "stdout",
     "output_type": "stream",
     "text": [
      "#######\n",
      "#     #\n",
      "# B@  #\n",
      "#  G  #\n",
      "#######\n",
      "Use W/A/S/D to move.\n"
     ]
    },
    {
     "name": "stdin",
     "output_type": "stream",
     "text": [
      "Move (WASD):  q\n"
     ]
    },
    {
     "name": "stdout",
     "output_type": "stream",
     "text": [
      "#######\n",
      "#     #\n",
      "# B@  #\n",
      "#  G  #\n",
      "#######\n",
      "Use W/A/S/D to move.\n"
     ]
    },
    {
     "name": "stdin",
     "output_type": "stream",
     "text": [
      "Move (WASD):  W\n"
     ]
    },
    {
     "name": "stdout",
     "output_type": "stream",
     "text": [
      "#######\n",
      "#  @  #\n",
      "# B   #\n",
      "#  G  #\n",
      "#######\n",
      "Use W/A/S/D to move.\n"
     ]
    },
    {
     "name": "stdin",
     "output_type": "stream",
     "text": [
      "Move (WASD):  S\n"
     ]
    },
    {
     "name": "stdout",
     "output_type": "stream",
     "text": [
      "#######\n",
      "#     #\n",
      "# B@  #\n",
      "#  G  #\n",
      "#######\n",
      "Use W/A/S/D to move.\n"
     ]
    },
    {
     "name": "stdin",
     "output_type": "stream",
     "text": [
      "Move (WASD):  Q\n"
     ]
    },
    {
     "name": "stdout",
     "output_type": "stream",
     "text": [
      "#######\n",
      "#     #\n",
      "# B@  #\n",
      "#  G  #\n",
      "#######\n",
      "Use W/A/S/D to move.\n"
     ]
    },
    {
     "name": "stdin",
     "output_type": "stream",
     "text": [
      "Move (WASD):  D\n"
     ]
    },
    {
     "name": "stdout",
     "output_type": "stream",
     "text": [
      "#######\n",
      "#     #\n",
      "# B @ #\n",
      "#  G  #\n",
      "#######\n",
      "Use W/A/S/D to move.\n"
     ]
    },
    {
     "name": "stdin",
     "output_type": "stream",
     "text": [
      "Move (WASD):  D\n"
     ]
    },
    {
     "name": "stdout",
     "output_type": "stream",
     "text": [
      "#######\n",
      "#     #\n",
      "# B  @#\n",
      "#  G  #\n",
      "#######\n",
      "Use W/A/S/D to move.\n"
     ]
    },
    {
     "name": "stdin",
     "output_type": "stream",
     "text": [
      "Move (WASD):  D\n"
     ]
    },
    {
     "name": "stdout",
     "output_type": "stream",
     "text": [
      "#######\n",
      "#     #\n",
      "# B  @#\n",
      "#  G  #\n",
      "#######\n",
      "Use W/A/S/D to move.\n"
     ]
    },
    {
     "name": "stdin",
     "output_type": "stream",
     "text": [
      "Move (WASD):  D\n"
     ]
    },
    {
     "name": "stdout",
     "output_type": "stream",
     "text": [
      "#######\n",
      "#     #\n",
      "# B  @#\n",
      "#  G  #\n",
      "#######\n",
      "Use W/A/S/D to move.\n"
     ]
    },
    {
     "name": "stdin",
     "output_type": "stream",
     "text": [
      "Move (WASD):  D\n"
     ]
    },
    {
     "name": "stdout",
     "output_type": "stream",
     "text": [
      "#######\n",
      "#     #\n",
      "# B  @#\n",
      "#  G  #\n",
      "#######\n",
      "Use W/A/S/D to move.\n"
     ]
    },
    {
     "name": "stdin",
     "output_type": "stream",
     "text": [
      "Move (WASD):  S\n"
     ]
    },
    {
     "name": "stdout",
     "output_type": "stream",
     "text": [
      "#######\n",
      "#     #\n",
      "# B   #\n",
      "#  G @#\n",
      "#######\n",
      "Use W/A/S/D to move.\n"
     ]
    },
    {
     "name": "stdin",
     "output_type": "stream",
     "text": [
      "Move (WASD):  S\n"
     ]
    },
    {
     "name": "stdout",
     "output_type": "stream",
     "text": [
      "#######\n",
      "#     #\n",
      "# B   #\n",
      "#  G @#\n",
      "#######\n",
      "Use W/A/S/D to move.\n"
     ]
    },
    {
     "name": "stdin",
     "output_type": "stream",
     "text": [
      "Move (WASD):  A\n"
     ]
    },
    {
     "name": "stdout",
     "output_type": "stream",
     "text": [
      "#######\n",
      "#     #\n",
      "# B   #\n",
      "#  G@ #\n",
      "#######\n",
      "Use W/A/S/D to move.\n"
     ]
    }
   ],
   "source": [
    "import os\n",
    "\n",
    "# نقشه‌ی بازی\n",
    "level = [\n",
    "    \"#######\",\n",
    "    \"#     #\",\n",
    "    \"# B@  #\",\n",
    "    \"#  G  #\",\n",
    "    \"#######\"\n",
    "]\n",
    "\n",
    "# موقعیت کاراکتر و جعبه‌ها را پیدا کن\n",
    "def find_position(level, char):\n",
    "    for y, row in enumerate(level):\n",
    "        for x, tile in enumerate(row):\n",
    "            if tile == char:\n",
    "                return y, x\n",
    "    return None\n",
    "\n",
    "# چاپ نقشه‌ی بازی\n",
    "def print_level(level):\n",
    "    os.system('cls' if os.name == 'nt' else 'clear')  # پاک کردن صفحه نمایش\n",
    "    for row in level:\n",
    "        print(\"\".join(row))\n",
    "    print(\"Use W/A/S/D to move.\")\n",
    "\n",
    "# به روزرسانی موقعیت کاراکتر\n",
    "def update_level(level, player, move):\n",
    "    dy, dx = move\n",
    "    y, x = player\n",
    "    ny, nx = y + dy, x + dx\n",
    "    \n",
    "    # اگر خانه بعدی جعبه باشد\n",
    "    if level[ny][nx] == 'B':\n",
    "        if level[ny + dy][nx + dx] in ' G':  # اگر جعبه می‌تواند حرکت کند\n",
    "            level[ny + dy][nx + dx] = 'B'\n",
    "            level[ny][nx] = '@'\n",
    "            level[y][x] = ' '\n",
    "            return ny, nx\n",
    "    elif level[ny][nx] in ' G':  # اگر خانه بعدی خالی است\n",
    "        level[ny][nx] = '@'\n",
    "        level[y][x] = ' '\n",
    "        return ny, nx\n",
    "    \n",
    "    return player  # اگر حرکت امکان‌پذیر نبود، موقعیت ثابت می‌ماند\n",
    "\n",
    "# تابع اصلی برای اجرای بازی\n",
    "def main():\n",
    "    # تبدیل لیست به قابل تغییر (لیست از لیست‌ها)\n",
    "    level_data = [list(row) for row in level]\n",
    "    player = find_position(level_data, '@')\n",
    "    \n",
    "    # حرکات بازی\n",
    "    moves = {\n",
    "        'w': (-1, 0),  # بالا\n",
    "        's': (1, 0),   # پایین\n",
    "        'a': (0, -1),  # چپ\n",
    "        'd': (0, 1)    # راست\n",
    "    }\n",
    "    \n",
    "    # حلقه بازی\n",
    "    while True:\n",
    "        print_level(level_data)\n",
    "        \n",
    "        # چک پیروزی\n",
    "        if all(tile != 'G' for row in level_data for tile in row):\n",
    "            print(\"تبریک! شما برنده شدید!\")\n",
    "            break\n",
    "        \n",
    "        # دریافت ورودی کاربر\n",
    "        move = input(\"Move (WASD): \").lower()\n",
    "        if move in moves:\n",
    "            player = update_level(level_data, player, moves[move])\n",
    "\n",
    "# اجرای بازی\n",
    "if __name__ == \"__main__\":\n",
    "    main()\n"
   ]
  },
  {
   "cell_type": "code",
   "execution_count": null,
   "id": "42854fae-8481-4a01-8a5f-4b1a70f9c1b2",
   "metadata": {},
   "outputs": [],
   "source": []
  }
 ],
 "metadata": {
  "kernelspec": {
   "display_name": "Python 3 (ipykernel)",
   "language": "python",
   "name": "python3"
  },
  "language_info": {
   "codemirror_mode": {
    "name": "ipython",
    "version": 3
   },
   "file_extension": ".py",
   "mimetype": "text/x-python",
   "name": "python",
   "nbconvert_exporter": "python",
   "pygments_lexer": "ipython3",
   "version": "3.12.4"
  }
 },
 "nbformat": 4,
 "nbformat_minor": 5
}
